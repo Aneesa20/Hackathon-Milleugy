{
 "cells": [
  {
   "cell_type": "code",
   "execution_count": 2,
   "metadata": {},
   "outputs": [],
   "source": [
    "import pandas as pd"
   ]
  },
  {
   "cell_type": "code",
   "execution_count": 3,
   "metadata": {},
   "outputs": [],
   "source": [
    "df = pd.read_csv('HFG_tweets.csv')"
   ]
  },
  {
   "cell_type": "code",
   "execution_count": 4,
   "metadata": {},
   "outputs": [
    {
     "data": {
      "text/plain": [
       "0       Omgevingsmelding: https://t.co/GyLRYFDt2x Best...\n",
       "1       Omgevingsmelding: https://t.co/PNbSZFjL0T Best...\n",
       "2       Omgevingsmelding: https://t.co/7Fmh5nSPnK Best...\n",
       "3       Omgevingsmelding: https://t.co/OdnQVbA2oK Best...\n",
       "4       Omgevingsmelding: https://t.co/DGb3zswxG5 Best...\n",
       "                              ...                        \n",
       "3220    Omgevingsmelding: https://t.co/d87Y4YIfo8 Best...\n",
       "3221    Omgevingsmelding: https://t.co/DC7feYELgV Best...\n",
       "3222    Omgevingsmelding: https://t.co/xTLa4wrgmR Best...\n",
       "3223    Omgevingsmelding: https://t.co/ZVx3FejY05 Best...\n",
       "3224    Omgevingsmelding: https://t.co/l07OhzAjGw Best...\n",
       "Name: full_text, Length: 3225, dtype: object"
      ]
     },
     "execution_count": 4,
     "metadata": {},
     "output_type": "execute_result"
    }
   ],
   "source": [
    "df.full_text"
   ]
  },
  {
   "cell_type": "code",
   "execution_count": 21,
   "metadata": {},
   "outputs": [
    {
     "data": {
      "text/plain": [
       "['Omgevingsmelding',\n",
       " 'https://t.co/PNbSZFjL0T Bestemd voor',\n",
       " '@ODMiddenHolland Meldingslocatie',\n",
       " '#Bodegraven-Reeuwijk Betreft',\n",
       " '#Geur of #stank / Chemische lucht / teer / asfalt, veroorzaakt door',\n",
       " 'Een bedrijf']"
      ]
     },
     "execution_count": 21,
     "metadata": {},
     "output_type": "execute_result"
    }
   ],
   "source": [
    "df.full_text.str.split(': ')[1]"
   ]
  },
  {
   "cell_type": "code",
   "execution_count": 22,
   "metadata": {},
   "outputs": [
    {
     "data": {
      "text/plain": [
       "['Omgevingsmelding',\n",
       " 'https://t.co/7Fmh5nSPnK Bestemd voor',\n",
       " '@AmsterdamNL Meldingslocatie',\n",
       " '#Amsterdam Betreft',\n",
       " '#Geluid of #lawaai / Overig lawaai, veroorzaakt door',\n",
       " 'Woonomgeving / buurt']"
      ]
     },
     "execution_count": 22,
     "metadata": {},
     "output_type": "execute_result"
    }
   ],
   "source": [
    "df.full_text.str.split(': ')[2]"
   ]
  },
  {
   "cell_type": "code",
   "execution_count": 23,
   "metadata": {},
   "outputs": [],
   "source": [
    "df[['_','Omgevingsmelding','Bestemd_voor', 'Meldingslocatie','Betreft','veroorzaakt door']] = df.full_text.str.split(': ',expand=True) "
   ]
  },
  {
   "cell_type": "code",
   "execution_count": 24,
   "metadata": {},
   "outputs": [
    {
     "data": {
      "text/html": [
       "<div>\n",
       "<style scoped>\n",
       "    .dataframe tbody tr th:only-of-type {\n",
       "        vertical-align: middle;\n",
       "    }\n",
       "\n",
       "    .dataframe tbody tr th {\n",
       "        vertical-align: top;\n",
       "    }\n",
       "\n",
       "    .dataframe thead th {\n",
       "        text-align: right;\n",
       "    }\n",
       "</style>\n",
       "<table border=\"1\" class=\"dataframe\">\n",
       "  <thead>\n",
       "    <tr style=\"text-align: right;\">\n",
       "      <th></th>\n",
       "      <th>created_at</th>\n",
       "      <th>full_text</th>\n",
       "      <th>_</th>\n",
       "      <th>Omgevingsmelding</th>\n",
       "      <th>Bestemd_voor</th>\n",
       "      <th>Meldingslocatie</th>\n",
       "      <th>Betreft</th>\n",
       "      <th>veroorzaakt door</th>\n",
       "    </tr>\n",
       "  </thead>\n",
       "  <tbody>\n",
       "    <tr>\n",
       "      <th>0</th>\n",
       "      <td>2020-11-28 04:14:31</td>\n",
       "      <td>Omgevingsmelding: https://t.co/GyLRYFDt2x Best...</td>\n",
       "      <td>Omgevingsmelding</td>\n",
       "      <td>https://t.co/GyLRYFDt2x Bestemd voor</td>\n",
       "      <td>@rotterdam           Meldingslocatie</td>\n",
       "      <td>#Rotterdam Betreft</td>\n",
       "      <td>Afval of onhygienische situatie / , veroorzaak...</td>\n",
       "      <td>Afval</td>\n",
       "    </tr>\n",
       "    <tr>\n",
       "      <th>1</th>\n",
       "      <td>2020-11-28 02:57:56</td>\n",
       "      <td>Omgevingsmelding: https://t.co/PNbSZFjL0T Best...</td>\n",
       "      <td>Omgevingsmelding</td>\n",
       "      <td>https://t.co/PNbSZFjL0T Bestemd voor</td>\n",
       "      <td>@ODMiddenHolland Meldingslocatie</td>\n",
       "      <td>#Bodegraven-Reeuwijk Betreft</td>\n",
       "      <td>#Geur of #stank / Chemische lucht / teer / asf...</td>\n",
       "      <td>Een bedrijf</td>\n",
       "    </tr>\n",
       "    <tr>\n",
       "      <th>2</th>\n",
       "      <td>2020-11-28 02:04:10</td>\n",
       "      <td>Omgevingsmelding: https://t.co/7Fmh5nSPnK Best...</td>\n",
       "      <td>Omgevingsmelding</td>\n",
       "      <td>https://t.co/7Fmh5nSPnK Bestemd voor</td>\n",
       "      <td>@AmsterdamNL Meldingslocatie</td>\n",
       "      <td>#Amsterdam Betreft</td>\n",
       "      <td>#Geluid of #lawaai / Overig lawaai, veroorzaak...</td>\n",
       "      <td>Woonomgeving / buurt</td>\n",
       "    </tr>\n",
       "  </tbody>\n",
       "</table>\n",
       "</div>"
      ],
      "text/plain": [
       "            created_at                                          full_text  \\\n",
       "0  2020-11-28 04:14:31  Omgevingsmelding: https://t.co/GyLRYFDt2x Best...   \n",
       "1  2020-11-28 02:57:56  Omgevingsmelding: https://t.co/PNbSZFjL0T Best...   \n",
       "2  2020-11-28 02:04:10  Omgevingsmelding: https://t.co/7Fmh5nSPnK Best...   \n",
       "\n",
       "                  _                      Omgevingsmelding  \\\n",
       "0  Omgevingsmelding  https://t.co/GyLRYFDt2x Bestemd voor   \n",
       "1  Omgevingsmelding  https://t.co/PNbSZFjL0T Bestemd voor   \n",
       "2  Omgevingsmelding  https://t.co/7Fmh5nSPnK Bestemd voor   \n",
       "\n",
       "                           Bestemd_voor               Meldingslocatie  \\\n",
       "0  @rotterdam           Meldingslocatie            #Rotterdam Betreft   \n",
       "1      @ODMiddenHolland Meldingslocatie  #Bodegraven-Reeuwijk Betreft   \n",
       "2          @AmsterdamNL Meldingslocatie            #Amsterdam Betreft   \n",
       "\n",
       "                                             Betreft      veroorzaakt door  \n",
       "0  Afval of onhygienische situatie / , veroorzaak...                 Afval  \n",
       "1  #Geur of #stank / Chemische lucht / teer / asf...           Een bedrijf  \n",
       "2  #Geluid of #lawaai / Overig lawaai, veroorzaak...  Woonomgeving / buurt  "
      ]
     },
     "execution_count": 24,
     "metadata": {},
     "output_type": "execute_result"
    }
   ],
   "source": [
    "df.head(3)"
   ]
  },
  {
   "cell_type": "code",
   "execution_count": null,
   "metadata": {},
   "outputs": [],
   "source": [
    "df[['Omgevingsmelding','_', '_']] "
   ]
  },
  {
   "cell_type": "code",
   "execution_count": 30,
   "metadata": {},
   "outputs": [],
   "source": [
    "df[['Omgevingsmelding','_']] =df.Omgevingsmelding.str.split('Bestemd ',expand=True) "
   ]
  },
  {
   "cell_type": "code",
   "execution_count": 31,
   "metadata": {},
   "outputs": [
    {
     "data": {
      "text/html": [
       "<div>\n",
       "<style scoped>\n",
       "    .dataframe tbody tr th:only-of-type {\n",
       "        vertical-align: middle;\n",
       "    }\n",
       "\n",
       "    .dataframe tbody tr th {\n",
       "        vertical-align: top;\n",
       "    }\n",
       "\n",
       "    .dataframe thead th {\n",
       "        text-align: right;\n",
       "    }\n",
       "</style>\n",
       "<table border=\"1\" class=\"dataframe\">\n",
       "  <thead>\n",
       "    <tr style=\"text-align: right;\">\n",
       "      <th></th>\n",
       "      <th>created_at</th>\n",
       "      <th>full_text</th>\n",
       "      <th>_</th>\n",
       "      <th>Omgevingsmelding</th>\n",
       "      <th>Bestemd_voor</th>\n",
       "      <th>Meldingslocatie</th>\n",
       "      <th>Betreft</th>\n",
       "      <th>veroorzaakt door</th>\n",
       "    </tr>\n",
       "  </thead>\n",
       "  <tbody>\n",
       "    <tr>\n",
       "      <th>0</th>\n",
       "      <td>2020-11-28 04:14:31</td>\n",
       "      <td>Omgevingsmelding: https://t.co/GyLRYFDt2x Best...</td>\n",
       "      <td>voor</td>\n",
       "      <td>https://t.co/GyLRYFDt2x</td>\n",
       "      <td>@rotterdam           Meldingslocatie</td>\n",
       "      <td>#Rotterdam Betreft</td>\n",
       "      <td>Afval of onhygienische situatie / , veroorzaak...</td>\n",
       "      <td>Afval</td>\n",
       "    </tr>\n",
       "    <tr>\n",
       "      <th>1</th>\n",
       "      <td>2020-11-28 02:57:56</td>\n",
       "      <td>Omgevingsmelding: https://t.co/PNbSZFjL0T Best...</td>\n",
       "      <td>voor</td>\n",
       "      <td>https://t.co/PNbSZFjL0T</td>\n",
       "      <td>@ODMiddenHolland Meldingslocatie</td>\n",
       "      <td>#Bodegraven-Reeuwijk Betreft</td>\n",
       "      <td>#Geur of #stank / Chemische lucht / teer / asf...</td>\n",
       "      <td>Een bedrijf</td>\n",
       "    </tr>\n",
       "    <tr>\n",
       "      <th>2</th>\n",
       "      <td>2020-11-28 02:04:10</td>\n",
       "      <td>Omgevingsmelding: https://t.co/7Fmh5nSPnK Best...</td>\n",
       "      <td>voor</td>\n",
       "      <td>https://t.co/7Fmh5nSPnK</td>\n",
       "      <td>@AmsterdamNL Meldingslocatie</td>\n",
       "      <td>#Amsterdam Betreft</td>\n",
       "      <td>#Geluid of #lawaai / Overig lawaai, veroorzaak...</td>\n",
       "      <td>Woonomgeving / buurt</td>\n",
       "    </tr>\n",
       "  </tbody>\n",
       "</table>\n",
       "</div>"
      ],
      "text/plain": [
       "            created_at                                          full_text  \\\n",
       "0  2020-11-28 04:14:31  Omgevingsmelding: https://t.co/GyLRYFDt2x Best...   \n",
       "1  2020-11-28 02:57:56  Omgevingsmelding: https://t.co/PNbSZFjL0T Best...   \n",
       "2  2020-11-28 02:04:10  Omgevingsmelding: https://t.co/7Fmh5nSPnK Best...   \n",
       "\n",
       "      _          Omgevingsmelding                          Bestemd_voor  \\\n",
       "0  voor  https://t.co/GyLRYFDt2x   @rotterdam           Meldingslocatie   \n",
       "1  voor  https://t.co/PNbSZFjL0T       @ODMiddenHolland Meldingslocatie   \n",
       "2  voor  https://t.co/7Fmh5nSPnK           @AmsterdamNL Meldingslocatie   \n",
       "\n",
       "                Meldingslocatie  \\\n",
       "0            #Rotterdam Betreft   \n",
       "1  #Bodegraven-Reeuwijk Betreft   \n",
       "2            #Amsterdam Betreft   \n",
       "\n",
       "                                             Betreft      veroorzaakt door  \n",
       "0  Afval of onhygienische situatie / , veroorzaak...                 Afval  \n",
       "1  #Geur of #stank / Chemische lucht / teer / asf...           Een bedrijf  \n",
       "2  #Geluid of #lawaai / Overig lawaai, veroorzaak...  Woonomgeving / buurt  "
      ]
     },
     "execution_count": 31,
     "metadata": {},
     "output_type": "execute_result"
    }
   ],
   "source": [
    "df.head(3)"
   ]
  },
  {
   "cell_type": "code",
   "execution_count": 33,
   "metadata": {},
   "outputs": [],
   "source": [
    "df[['Bestemd_voor','_']]=df.Bestemd_voor.str.split('Meldingslocatie',expand=True) "
   ]
  },
  {
   "cell_type": "code",
   "execution_count": 34,
   "metadata": {},
   "outputs": [
    {
     "data": {
      "text/html": [
       "<div>\n",
       "<style scoped>\n",
       "    .dataframe tbody tr th:only-of-type {\n",
       "        vertical-align: middle;\n",
       "    }\n",
       "\n",
       "    .dataframe tbody tr th {\n",
       "        vertical-align: top;\n",
       "    }\n",
       "\n",
       "    .dataframe thead th {\n",
       "        text-align: right;\n",
       "    }\n",
       "</style>\n",
       "<table border=\"1\" class=\"dataframe\">\n",
       "  <thead>\n",
       "    <tr style=\"text-align: right;\">\n",
       "      <th></th>\n",
       "      <th>created_at</th>\n",
       "      <th>full_text</th>\n",
       "      <th>_</th>\n",
       "      <th>Omgevingsmelding</th>\n",
       "      <th>Bestemd_voor</th>\n",
       "      <th>Meldingslocatie</th>\n",
       "      <th>Betreft</th>\n",
       "      <th>veroorzaakt door</th>\n",
       "    </tr>\n",
       "  </thead>\n",
       "  <tbody>\n",
       "    <tr>\n",
       "      <th>0</th>\n",
       "      <td>2020-11-28 04:14:31</td>\n",
       "      <td>Omgevingsmelding: https://t.co/GyLRYFDt2x Best...</td>\n",
       "      <td></td>\n",
       "      <td>https://t.co/GyLRYFDt2x</td>\n",
       "      <td>@rotterdam</td>\n",
       "      <td>#Rotterdam Betreft</td>\n",
       "      <td>Afval of onhygienische situatie / , veroorzaak...</td>\n",
       "      <td>Afval</td>\n",
       "    </tr>\n",
       "    <tr>\n",
       "      <th>1</th>\n",
       "      <td>2020-11-28 02:57:56</td>\n",
       "      <td>Omgevingsmelding: https://t.co/PNbSZFjL0T Best...</td>\n",
       "      <td></td>\n",
       "      <td>https://t.co/PNbSZFjL0T</td>\n",
       "      <td>@ODMiddenHolland</td>\n",
       "      <td>#Bodegraven-Reeuwijk Betreft</td>\n",
       "      <td>#Geur of #stank / Chemische lucht / teer / asf...</td>\n",
       "      <td>Een bedrijf</td>\n",
       "    </tr>\n",
       "  </tbody>\n",
       "</table>\n",
       "</div>"
      ],
      "text/plain": [
       "            created_at                                          full_text _  \\\n",
       "0  2020-11-28 04:14:31  Omgevingsmelding: https://t.co/GyLRYFDt2x Best...     \n",
       "1  2020-11-28 02:57:56  Omgevingsmelding: https://t.co/PNbSZFjL0T Best...     \n",
       "\n",
       "           Omgevingsmelding           Bestemd_voor  \\\n",
       "0  https://t.co/GyLRYFDt2x   @rotterdam              \n",
       "1  https://t.co/PNbSZFjL0T       @ODMiddenHolland    \n",
       "\n",
       "                Meldingslocatie  \\\n",
       "0            #Rotterdam Betreft   \n",
       "1  #Bodegraven-Reeuwijk Betreft   \n",
       "\n",
       "                                             Betreft veroorzaakt door  \n",
       "0  Afval of onhygienische situatie / , veroorzaak...            Afval  \n",
       "1  #Geur of #stank / Chemische lucht / teer / asf...      Een bedrijf  "
      ]
     },
     "execution_count": 34,
     "metadata": {},
     "output_type": "execute_result"
    }
   ],
   "source": [
    "df.head(2)"
   ]
  },
  {
   "cell_type": "code",
   "execution_count": 36,
   "metadata": {},
   "outputs": [],
   "source": [
    "df[['Meldingslocatie','_']] = df.Meldingslocatie.str.split(' Betreft',expand=True) "
   ]
  },
  {
   "cell_type": "code",
   "execution_count": 37,
   "metadata": {},
   "outputs": [
    {
     "data": {
      "text/html": [
       "<div>\n",
       "<style scoped>\n",
       "    .dataframe tbody tr th:only-of-type {\n",
       "        vertical-align: middle;\n",
       "    }\n",
       "\n",
       "    .dataframe tbody tr th {\n",
       "        vertical-align: top;\n",
       "    }\n",
       "\n",
       "    .dataframe thead th {\n",
       "        text-align: right;\n",
       "    }\n",
       "</style>\n",
       "<table border=\"1\" class=\"dataframe\">\n",
       "  <thead>\n",
       "    <tr style=\"text-align: right;\">\n",
       "      <th></th>\n",
       "      <th>created_at</th>\n",
       "      <th>full_text</th>\n",
       "      <th>_</th>\n",
       "      <th>Omgevingsmelding</th>\n",
       "      <th>Bestemd_voor</th>\n",
       "      <th>Meldingslocatie</th>\n",
       "      <th>Betreft</th>\n",
       "      <th>veroorzaakt door</th>\n",
       "    </tr>\n",
       "  </thead>\n",
       "  <tbody>\n",
       "    <tr>\n",
       "      <th>0</th>\n",
       "      <td>2020-11-28 04:14:31</td>\n",
       "      <td>Omgevingsmelding: https://t.co/GyLRYFDt2x Best...</td>\n",
       "      <td></td>\n",
       "      <td>https://t.co/GyLRYFDt2x</td>\n",
       "      <td>@rotterdam</td>\n",
       "      <td>#Rotterdam</td>\n",
       "      <td>Afval of onhygienische situatie / , veroorzaak...</td>\n",
       "      <td>Afval</td>\n",
       "    </tr>\n",
       "    <tr>\n",
       "      <th>1</th>\n",
       "      <td>2020-11-28 02:57:56</td>\n",
       "      <td>Omgevingsmelding: https://t.co/PNbSZFjL0T Best...</td>\n",
       "      <td></td>\n",
       "      <td>https://t.co/PNbSZFjL0T</td>\n",
       "      <td>@ODMiddenHolland</td>\n",
       "      <td>#Bodegraven-Reeuwijk</td>\n",
       "      <td>#Geur of #stank / Chemische lucht / teer / asf...</td>\n",
       "      <td>Een bedrijf</td>\n",
       "    </tr>\n",
       "    <tr>\n",
       "      <th>2</th>\n",
       "      <td>2020-11-28 02:04:10</td>\n",
       "      <td>Omgevingsmelding: https://t.co/7Fmh5nSPnK Best...</td>\n",
       "      <td></td>\n",
       "      <td>https://t.co/7Fmh5nSPnK</td>\n",
       "      <td>@AmsterdamNL</td>\n",
       "      <td>#Amsterdam</td>\n",
       "      <td>#Geluid of #lawaai / Overig lawaai, veroorzaak...</td>\n",
       "      <td>Woonomgeving / buurt</td>\n",
       "    </tr>\n",
       "  </tbody>\n",
       "</table>\n",
       "</div>"
      ],
      "text/plain": [
       "            created_at                                          full_text _  \\\n",
       "0  2020-11-28 04:14:31  Omgevingsmelding: https://t.co/GyLRYFDt2x Best...     \n",
       "1  2020-11-28 02:57:56  Omgevingsmelding: https://t.co/PNbSZFjL0T Best...     \n",
       "2  2020-11-28 02:04:10  Omgevingsmelding: https://t.co/7Fmh5nSPnK Best...     \n",
       "\n",
       "           Omgevingsmelding           Bestemd_voor       Meldingslocatie  \\\n",
       "0  https://t.co/GyLRYFDt2x   @rotterdam                       #Rotterdam   \n",
       "1  https://t.co/PNbSZFjL0T       @ODMiddenHolland   #Bodegraven-Reeuwijk   \n",
       "2  https://t.co/7Fmh5nSPnK           @AmsterdamNL             #Amsterdam   \n",
       "\n",
       "                                             Betreft      veroorzaakt door  \n",
       "0  Afval of onhygienische situatie / , veroorzaak...                 Afval  \n",
       "1  #Geur of #stank / Chemische lucht / teer / asf...           Een bedrijf  \n",
       "2  #Geluid of #lawaai / Overig lawaai, veroorzaak...  Woonomgeving / buurt  "
      ]
     },
     "execution_count": 37,
     "metadata": {},
     "output_type": "execute_result"
    }
   ],
   "source": [
    "df.head(3)"
   ]
  },
  {
   "cell_type": "code",
   "execution_count": 39,
   "metadata": {},
   "outputs": [],
   "source": [
    "df[['Betreft','_']]  = df.Betreft.str.split(', veroorzaakt door',expand=True) "
   ]
  },
  {
   "cell_type": "code",
   "execution_count": 40,
   "metadata": {},
   "outputs": [
    {
     "data": {
      "text/html": [
       "<div>\n",
       "<style scoped>\n",
       "    .dataframe tbody tr th:only-of-type {\n",
       "        vertical-align: middle;\n",
       "    }\n",
       "\n",
       "    .dataframe tbody tr th {\n",
       "        vertical-align: top;\n",
       "    }\n",
       "\n",
       "    .dataframe thead th {\n",
       "        text-align: right;\n",
       "    }\n",
       "</style>\n",
       "<table border=\"1\" class=\"dataframe\">\n",
       "  <thead>\n",
       "    <tr style=\"text-align: right;\">\n",
       "      <th></th>\n",
       "      <th>created_at</th>\n",
       "      <th>full_text</th>\n",
       "      <th>_</th>\n",
       "      <th>Omgevingsmelding</th>\n",
       "      <th>Bestemd_voor</th>\n",
       "      <th>Meldingslocatie</th>\n",
       "      <th>Betreft</th>\n",
       "      <th>veroorzaakt door</th>\n",
       "    </tr>\n",
       "  </thead>\n",
       "  <tbody>\n",
       "    <tr>\n",
       "      <th>0</th>\n",
       "      <td>2020-11-28 04:14:31</td>\n",
       "      <td>Omgevingsmelding: https://t.co/GyLRYFDt2x Best...</td>\n",
       "      <td></td>\n",
       "      <td>https://t.co/GyLRYFDt2x</td>\n",
       "      <td>@rotterdam</td>\n",
       "      <td>#Rotterdam</td>\n",
       "      <td>Afval of onhygienische situatie /</td>\n",
       "      <td>Afval</td>\n",
       "    </tr>\n",
       "    <tr>\n",
       "      <th>1</th>\n",
       "      <td>2020-11-28 02:57:56</td>\n",
       "      <td>Omgevingsmelding: https://t.co/PNbSZFjL0T Best...</td>\n",
       "      <td></td>\n",
       "      <td>https://t.co/PNbSZFjL0T</td>\n",
       "      <td>@ODMiddenHolland</td>\n",
       "      <td>#Bodegraven-Reeuwijk</td>\n",
       "      <td>#Geur of #stank / Chemische lucht / teer / asfalt</td>\n",
       "      <td>Een bedrijf</td>\n",
       "    </tr>\n",
       "    <tr>\n",
       "      <th>2</th>\n",
       "      <td>2020-11-28 02:04:10</td>\n",
       "      <td>Omgevingsmelding: https://t.co/7Fmh5nSPnK Best...</td>\n",
       "      <td></td>\n",
       "      <td>https://t.co/7Fmh5nSPnK</td>\n",
       "      <td>@AmsterdamNL</td>\n",
       "      <td>#Amsterdam</td>\n",
       "      <td>#Geluid of #lawaai / Overig lawaai</td>\n",
       "      <td>Woonomgeving / buurt</td>\n",
       "    </tr>\n",
       "  </tbody>\n",
       "</table>\n",
       "</div>"
      ],
      "text/plain": [
       "            created_at                                          full_text _  \\\n",
       "0  2020-11-28 04:14:31  Omgevingsmelding: https://t.co/GyLRYFDt2x Best...     \n",
       "1  2020-11-28 02:57:56  Omgevingsmelding: https://t.co/PNbSZFjL0T Best...     \n",
       "2  2020-11-28 02:04:10  Omgevingsmelding: https://t.co/7Fmh5nSPnK Best...     \n",
       "\n",
       "           Omgevingsmelding           Bestemd_voor       Meldingslocatie  \\\n",
       "0  https://t.co/GyLRYFDt2x   @rotterdam                       #Rotterdam   \n",
       "1  https://t.co/PNbSZFjL0T       @ODMiddenHolland   #Bodegraven-Reeuwijk   \n",
       "2  https://t.co/7Fmh5nSPnK           @AmsterdamNL             #Amsterdam   \n",
       "\n",
       "                                             Betreft      veroorzaakt door  \n",
       "0                 Afval of onhygienische situatie /                  Afval  \n",
       "1  #Geur of #stank / Chemische lucht / teer / asfalt           Een bedrijf  \n",
       "2                 #Geluid of #lawaai / Overig lawaai  Woonomgeving / buurt  "
      ]
     },
     "execution_count": 40,
     "metadata": {},
     "output_type": "execute_result"
    }
   ],
   "source": [
    "df.head(3)"
   ]
  },
  {
   "cell_type": "code",
   "execution_count": 42,
   "metadata": {},
   "outputs": [],
   "source": [
    "A = df.drop(['_'], axis=1)"
   ]
  },
  {
   "cell_type": "code",
   "execution_count": 43,
   "metadata": {},
   "outputs": [],
   "source": [
    "A.to_csv('1_tweets_organized.csv', index=False)"
   ]
  },
  {
   "cell_type": "code",
   "execution_count": null,
   "metadata": {},
   "outputs": [],
   "source": []
  }
 ],
 "metadata": {
  "kernelspec": {
   "display_name": "Python 3",
   "language": "python",
   "name": "python3"
  },
  "language_info": {
   "codemirror_mode": {
    "name": "ipython",
    "version": 3
   },
   "file_extension": ".py",
   "mimetype": "text/x-python",
   "name": "python",
   "nbconvert_exporter": "python",
   "pygments_lexer": "ipython3",
   "version": "3.6.12"
  }
 },
 "nbformat": 4,
 "nbformat_minor": 4
}

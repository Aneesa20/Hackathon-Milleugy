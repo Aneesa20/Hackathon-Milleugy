{
 "cells": [
  {
   "cell_type": "code",
   "execution_count": 1,
   "metadata": {},
   "outputs": [],
   "source": [
    "import os\n",
    "import tweepy as tw\n",
    "import pandas as pd"
   ]
  },
  {
   "cell_type": "code",
   "execution_count": 2,
   "metadata": {},
   "outputs": [],
   "source": [
    "#You need to have your own keys for this part\n",
    "#create a twitter account and verify it through your phone and get the developer access for consumer keys and acces tokens\n",
    "\n",
    "consumer_key= 'ZJ3TjK2757wXE1I4b5MhUDfJ0'\n",
    "consumer_secret= 'M052zMIvYIj8aoOgq3ftO5BCmJ1WjMVjD08QYNRcd9HH0nwpSY'\n",
    "access_token= '754102264621432833-P0n1cNU0lshXs6jQ2r963Fh4tXFiGIT'\n",
    "access_token_secret= 'eNRJvpFULKr0lYxXrW47tdGHy3UOEJb1KKbzzYw9R19MI'"
   ]
  },
  {
   "cell_type": "code",
   "execution_count": 3,
   "metadata": {},
   "outputs": [],
   "source": [
    "auth = tw.OAuthHandler(consumer_key, consumer_secret)\n",
    "auth.set_access_token(access_token, access_token_secret)\n",
    "api = tw.API(auth, wait_on_rate_limit=True)"
   ]
  },
  {
   "cell_type": "markdown",
   "metadata": {},
   "source": [
    "# POST A TWEET HERE THROUGH YOUR ACCOUNT "
   ]
  },
  {
   "cell_type": "code",
   "execution_count": null,
   "metadata": {
    "jupyter": {
     "source_hidden": true
    }
   },
   "outputs": [],
   "source": [
    "# Post a tweet from Python\n",
    "api.update_status(\"Look, I'm tweeting from #Python in my #earthanalytics class! @EarthLabCU\")\n",
    "# Your tweet has been posted!"
   ]
  },
  {
   "cell_type": "code",
   "execution_count": null,
   "metadata": {
    "jupyter": {
     "source_hidden": true
    }
   },
   "outputs": [],
   "source": [
    "tweets = api.user_timeline(screen_name = 'milieuklachten', count = 200, include_rts = False, tweet_mode=\"extended\")"
   ]
  },
  {
   "cell_type": "code",
   "execution_count": null,
   "metadata": {
    "jupyter": {
     "source_hidden": true
    }
   },
   "outputs": [],
   "source": [
    "# Iterate and print tweets\n",
    "tweet_data = [[tweet.created_at, tweet.full_text] for tweet in tweets]"
   ]
  },
  {
   "cell_type": "code",
   "execution_count": null,
   "metadata": {
    "jupyter": {
     "source_hidden": true
    }
   },
   "outputs": [],
   "source": [
    "tweet_data"
   ]
  },
  {
   "cell_type": "code",
   "execution_count": 4,
   "metadata": {},
   "outputs": [],
   "source": [
    "tweets = tw.Cursor(api.user_timeline, id=\"milieuklachten\", include_rts = False, tweet_mode=\"extended\").items(20000)\n",
    "# # Collect tweets\n",
    "# tweets = tw.Cursor(api.search,\n",
    "#               q=search_words,\n",
    "#               lang=\"en\",\n",
    "#               since=date_since, tweet_mode='extended',\n",
    "#               include_rts=True).items(1000)"
   ]
  },
  {
   "cell_type": "code",
   "execution_count": 5,
   "metadata": {},
   "outputs": [],
   "source": [
    "# Iterate and print tweets\n",
    "tweet_data = [[tweet.created_at, tweet.full_text] for tweet in tweets]"
   ]
  },
  {
   "cell_type": "code",
   "execution_count": null,
   "metadata": {},
   "outputs": [],
   "source": [
    "tweet_data[-1]"
   ]
  },
  {
   "cell_type": "code",
   "execution_count": 6,
   "metadata": {},
   "outputs": [
    {
     "data": {
      "text/html": [
       "<div>\n",
       "<style scoped>\n",
       "    .dataframe tbody tr th:only-of-type {\n",
       "        vertical-align: middle;\n",
       "    }\n",
       "\n",
       "    .dataframe tbody tr th {\n",
       "        vertical-align: top;\n",
       "    }\n",
       "\n",
       "    .dataframe thead th {\n",
       "        text-align: right;\n",
       "    }\n",
       "</style>\n",
       "<table border=\"1\" class=\"dataframe\">\n",
       "  <thead>\n",
       "    <tr style=\"text-align: right;\">\n",
       "      <th></th>\n",
       "      <th>created_at</th>\n",
       "      <th>full_text</th>\n",
       "    </tr>\n",
       "  </thead>\n",
       "  <tbody>\n",
       "    <tr>\n",
       "      <th>0</th>\n",
       "      <td>2020-11-28 04:14:31</td>\n",
       "      <td>Omgevingsmelding: https://t.co/GyLRYFDt2x Best...</td>\n",
       "    </tr>\n",
       "    <tr>\n",
       "      <th>1</th>\n",
       "      <td>2020-11-28 02:57:56</td>\n",
       "      <td>Omgevingsmelding: https://t.co/PNbSZFjL0T Best...</td>\n",
       "    </tr>\n",
       "    <tr>\n",
       "      <th>2</th>\n",
       "      <td>2020-11-28 02:04:10</td>\n",
       "      <td>Omgevingsmelding: https://t.co/7Fmh5nSPnK Best...</td>\n",
       "    </tr>\n",
       "    <tr>\n",
       "      <th>3</th>\n",
       "      <td>2020-11-28 02:01:18</td>\n",
       "      <td>Omgevingsmelding: https://t.co/OdnQVbA2oK Best...</td>\n",
       "    </tr>\n",
       "    <tr>\n",
       "      <th>4</th>\n",
       "      <td>2020-11-28 01:56:57</td>\n",
       "      <td>Omgevingsmelding: https://t.co/DGb3zswxG5 Best...</td>\n",
       "    </tr>\n",
       "  </tbody>\n",
       "</table>\n",
       "</div>"
      ],
      "text/plain": [
       "           created_at                                          full_text\n",
       "0 2020-11-28 04:14:31  Omgevingsmelding: https://t.co/GyLRYFDt2x Best...\n",
       "1 2020-11-28 02:57:56  Omgevingsmelding: https://t.co/PNbSZFjL0T Best...\n",
       "2 2020-11-28 02:04:10  Omgevingsmelding: https://t.co/7Fmh5nSPnK Best...\n",
       "3 2020-11-28 02:01:18  Omgevingsmelding: https://t.co/OdnQVbA2oK Best...\n",
       "4 2020-11-28 01:56:57  Omgevingsmelding: https://t.co/DGb3zswxG5 Best..."
      ]
     },
     "execution_count": 6,
     "metadata": {},
     "output_type": "execute_result"
    }
   ],
   "source": [
    "tweet_text = pd.DataFrame(data=tweet_data, \n",
    "                    columns=['created_at', \"full_text\"])\n",
    "tweet_text.head(5)"
   ]
  },
  {
   "cell_type": "code",
   "execution_count": 7,
   "metadata": {},
   "outputs": [
    {
     "data": {
      "text/plain": [
       "3225"
      ]
     },
     "execution_count": 7,
     "metadata": {},
     "output_type": "execute_result"
    }
   ],
   "source": [
    "len(tweet_text)"
   ]
  },
  {
   "cell_type": "code",
   "execution_count": 9,
   "metadata": {},
   "outputs": [],
   "source": [
    "tweet_text.to_csv('HFG_tweets.csv', index=False)"
   ]
  },
  {
   "cell_type": "code",
   "execution_count": null,
   "metadata": {},
   "outputs": [],
   "source": []
  },
  {
   "cell_type": "code",
   "execution_count": null,
   "metadata": {},
   "outputs": [],
   "source": []
  },
  {
   "cell_type": "code",
   "execution_count": null,
   "metadata": {},
   "outputs": [],
   "source": []
  },
  {
   "cell_type": "code",
   "execution_count": null,
   "metadata": {},
   "outputs": [],
   "source": []
  },
  {
   "cell_type": "code",
   "execution_count": null,
   "metadata": {},
   "outputs": [],
   "source": []
  },
  {
   "cell_type": "code",
   "execution_count": null,
   "metadata": {},
   "outputs": [],
   "source": []
  },
  {
   "cell_type": "code",
   "execution_count": null,
   "metadata": {},
   "outputs": [],
   "source": []
  },
  {
   "cell_type": "code",
   "execution_count": null,
   "metadata": {},
   "outputs": [],
   "source": [
    "dict_={'idx':[], 'full_text':[], 'created_at':[]}\n",
    "i = 0\n",
    "for status in stuff:\n",
    "    print (status._json.keys())\n",
    "    print (status._json['full_text'])\n",
    "    print (status._json['created_at'])\n",
    "    print (status._json['id_str'])\n",
    "    dict_['idx'].append(i)\n",
    "    dict_['full_text'].append(status._json['full_text'])\n",
    "    i+=1"
   ]
  },
  {
   "cell_type": "code",
   "execution_count": null,
   "metadata": {},
   "outputs": [],
   "source": [
    "import pandas as pd"
   ]
  },
  {
   "cell_type": "code",
   "execution_count": null,
   "metadata": {},
   "outputs": [],
   "source": [
    "df = pd.DataFrame.from_dict(dict_)"
   ]
  },
  {
   "cell_type": "code",
   "execution_count": null,
   "metadata": {},
   "outputs": [],
   "source": [
    "df"
   ]
  },
  {
   "cell_type": "code",
   "execution_count": null,
   "metadata": {},
   "outputs": [],
   "source": []
  },
  {
   "cell_type": "code",
   "execution_count": null,
   "metadata": {},
   "outputs": [],
   "source": [
    "#users = ('IBM' or 'massmutual')\n",
    "user = api.get_user(screen_name = 'milieuklachten', tweet_mode=\"extended\")"
   ]
  },
  {
   "cell_type": "code",
   "execution_count": null,
   "metadata": {},
   "outputs": [],
   "source": [
    "user"
   ]
  },
  {
   "cell_type": "code",
   "execution_count": null,
   "metadata": {},
   "outputs": [],
   "source": [
    "i = 0\n",
    "for tweet in tw.Cursor(api.user_timeline,id='milieuklachten').items():\n",
    "    if i <=2:\n",
    "        print (tweet)\n",
    "    else:\n",
    "        break\n",
    "    i+=1"
   ]
  },
  {
   "cell_type": "code",
   "execution_count": null,
   "metadata": {},
   "outputs": [],
   "source": []
  },
  {
   "cell_type": "code",
   "execution_count": null,
   "metadata": {},
   "outputs": [],
   "source": [
    "#Introduce your search words here\n",
    "search_words = [\"#coronavirus\", \"#COVID19\", \"#CoronavirusOutbreak\",\" -filter:retweets\"]\n",
    "#new_search = search_words + \" -filter:retweets\"\n",
    "\n",
    "date_since = \"2020-01-01\"\n",
    "\n",
    "# Collect tweets\n",
    "tweets = tw.Cursor(api.search,\n",
    "              q=search_words,\n",
    "              lang=\"en\",\n",
    "              since=date_since, tweet_mode='extended',\n",
    "              include_rts=True).items(1000)"
   ]
  },
  {
   "cell_type": "code",
   "execution_count": null,
   "metadata": {},
   "outputs": [],
   "source": [
    "# Iterate and print tweets\n",
    "tweet_data = [[tweet.user.screen_name, tweet.user.location, tweet.full_text] for tweet in tweets]\n",
    "tweet_data"
   ]
  },
  {
   "cell_type": "code",
   "execution_count": null,
   "metadata": {},
   "outputs": [],
   "source": [
    "#Introduce your search words here\n",
    "search_words = [\"#coronavirus\", \"#COVID19\", \"#CoronavirusOutbreak\",\" -filter:retweets\"]\n",
    "#new_search = search_words + \" -filter:retweets\"\n",
    "\n",
    "date_since = \"2020-01-01\"\n",
    "\n",
    "# Collect tweets\n",
    "tweets = tw.Cursor(api.search,\n",
    "              q=search_words,\n",
    "              lang=\"en\",\n",
    "              since=date_since, tweet_mode='extended',\n",
    "              include_rts=True).items(1000)\n",
    "\n",
    "tweets_arr = []\n",
    "\n",
    "# Iterate and print tweets\n",
    "tweet_data = [[tweet.user.screen_name, tweet.user.location, tweet.full_text, tweet.date] for tweet in tweets]\n",
    "tweet_data\n",
    "print(\"Done\")"
   ]
  },
  {
   "cell_type": "code",
   "execution_count": null,
   "metadata": {},
   "outputs": [],
   "source": [
    "tweet_text = pd.DataFrame(data=tweet_data, \n",
    "                    columns=['user', \"location\",'text','date'])\n",
    "tweet_text.head(5)"
   ]
  },
  {
   "cell_type": "code",
   "execution_count": null,
   "metadata": {},
   "outputs": [],
   "source": []
  }
 ],
 "metadata": {
  "kernelspec": {
   "display_name": "Python 3",
   "language": "python",
   "name": "python3"
  },
  "language_info": {
   "codemirror_mode": {
    "name": "ipython",
    "version": 3
   },
   "file_extension": ".py",
   "mimetype": "text/x-python",
   "name": "python",
   "nbconvert_exporter": "python",
   "pygments_lexer": "ipython3",
   "version": "3.6.12"
  }
 },
 "nbformat": 4,
 "nbformat_minor": 4
}
